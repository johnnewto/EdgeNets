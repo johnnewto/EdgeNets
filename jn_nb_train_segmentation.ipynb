{
 "cells": [
  {
   "cell_type": "code",
   "execution_count": 8,
   "metadata": {
    "collapsed": true,
    "pycharm": {
     "is_executing": false
    }
   },
   "outputs": [],
   "source": [
    "%reload_ext autoreload\n",
    "%autoreload 2\n",
    "%matplotlib inline\n",
    "\n",
    "# import torch\n",
    "# import glob\n",
    "# import os\n",
    "# from argparse import ArgumentParser\n",
    "# from PIL import Image\n",
    "# from torchvision.transforms import functional as F\n",
    "# from tqdm import tqdm\n",
    "# from utilities.print_utils import *\n",
    "# from transforms.classification.data_transforms import MEAN, STD\n",
    "# from utilities.utils import model_parameters, compute_flops\n",
    "# \n",
    "# from fastai import *\n",
    "# from fastai.vision import *\n",
    "# from fastai.torch_core import *\n",
    "# \n",
    "\n",
    "# import argparse\n",
    "# import os\n",
    "# import torch\n",
    "# import torch.nn as nn\n",
    "# import torch.optim as optim\n",
    "# from utilities.utils import save_checkpoint, model_parameters, compute_flops\n",
    "# from utilities.train_eval_seg import train_seg as train\n",
    "# from utilities.train_eval_seg import val_seg as val\n",
    "# from torch.utils.tensorboard import SummaryWriter\n",
    "# from loss_fns.segmentation_loss import SegmentationLoss\n",
    "# import random\n",
    "# import math\n",
    "# import time\n",
    "# import numpy as np\n",
    "# from utilities.print_utils import *"
   ]
  },
  {
   "cell_type": "code",
   "execution_count": 2,
   "outputs": [
    {
     "data": {
      "text/plain": "<module 'jn_train_segmentation' from '/home/john/github/EdgeNets/jn_train_segmentation.py'>"
     },
     "metadata": {},
     "output_type": "execute_result",
     "execution_count": 2
    }
   ],
   "source": [
    "import importlib\n",
    "import jn_train_segmentation \n",
    "importlib.reload(jn_train_segmentation)"
   ],
   "metadata": {
    "collapsed": false,
    "pycharm": {
     "name": "#%%\n",
     "is_executing": false
    }
   }
  },
  {
   "cell_type": "code",
   "execution_count": 5,
   "outputs": [
    {
     "name": "stdout",
     "text": [
      "2019-09-10 09:33:28 - \u001b[34m\u001b[1mLOGS   \u001b[0m - Loading pretrained basenet model weights\n2019-09-10 09:33:28 - \u001b[34m\u001b[1mLOGS   \u001b[0m - 62.33 % of weights copied from basenet to segnet\n2019-09-10 09:33:28 - \u001b[34m\u001b[1mLOGS   \u001b[0m - Pretrained basenet model loaded!!\n"
     ],
     "output_type": "stream"
    },
    {
     "data": {
      "text/plain": "SuffleNetv2Segmentation(\n  (base_net): CNNModel(\n    (level1): CBR(\n      (cbr): Sequential(\n        (0): Conv2d(3, 24, kernel_size=(3, 3), stride=(2, 2), padding=(1, 1), bias=False)\n        (1): BatchNorm2d(24, eps=1e-05, momentum=0.1, affine=True, track_running_stats=True)\n        (2): PReLU(num_parameters=24)\n      )\n    )\n    (level2): MaxPool2d(kernel_size=3, stride=2, padding=1, dilation=1, ceil_mode=False)\n    (level3): Sequential(\n      (0): StridedShuffleBlock(in_channels=24, out_channels=48)\n      (1): ShuffleBlock(in_channels=48, out_channels=48)\n      (2): ShuffleBlock(in_channels=48, out_channels=48)\n      (3): ShuffleBlock(in_channels=48, out_channels=48)\n    )\n    (level4): Sequential(\n      (0): StridedShuffleBlock(in_channels=48, out_channels=96)\n      (1): ShuffleBlock(in_channels=96, out_channels=96)\n      (2): ShuffleBlock(in_channels=96, out_channels=96)\n      (3): ShuffleBlock(in_channels=96, out_channels=96)\n      (4): ShuffleBlock(in_channels=96, out_channels=96)\n      (5): ShuffleBlock(in_channels=96, out_channels=96)\n      (6): ShuffleBlock(in_channels=96, out_channels=96)\n      (7): ShuffleBlock(in_channels=96, out_channels=96)\n    )\n    (global_pool): AdaptiveAvgPool2d(output_size=1)\n  )\n  (eff_pool_16x16): EfficientPyrPool(\n    (stages): ModuleList(\n      (0): Conv2d(10, 10, kernel_size=(3, 3), stride=(1, 1), padding=(1, 1), groups=10, bias=False)\n      (1): Conv2d(10, 10, kernel_size=(3, 3), stride=(1, 1), padding=(1, 1), groups=10, bias=False)\n      (2): Conv2d(10, 10, kernel_size=(3, 3), stride=(1, 1), padding=(1, 1), groups=10, bias=False)\n      (3): Conv2d(10, 10, kernel_size=(3, 3), stride=(1, 1), padding=(1, 1), groups=10, bias=False)\n      (4): Conv2d(10, 10, kernel_size=(3, 3), stride=(1, 1), padding=(1, 1), groups=10, bias=False)\n    )\n    (projection_layer): CBR(\n      (cbr): Sequential(\n        (0): Conv2d(96, 10, kernel_size=(1, 1), stride=(1, 1), bias=False)\n        (1): BatchNorm2d(10, eps=1e-05, momentum=0.1, affine=True, track_running_stats=True)\n        (2): PReLU(num_parameters=10)\n      )\n    )\n    (merge_layer): Sequential(\n      (0): BR(\n        (br): Sequential(\n          (0): BatchNorm2d(50, eps=1e-05, momentum=0.1, affine=True, track_running_stats=True)\n          (1): PReLU(num_parameters=50)\n        )\n      )\n      (1): Shuffle()\n      (2): CBR(\n        (cbr): Sequential(\n          (0): Conv2d(50, 10, kernel_size=(3, 3), stride=(1, 1), padding=(1, 1), groups=10, bias=False)\n          (1): BatchNorm2d(10, eps=1e-05, momentum=0.1, affine=True, track_running_stats=True)\n          (2): PReLU(num_parameters=10)\n        )\n      )\n      (3): Conv2d(10, 64, kernel_size=(1, 1), stride=(1, 1), bias=False)\n    )\n    (br): BR(\n      (br): Sequential(\n        (0): BatchNorm2d(64, eps=1e-05, momentum=0.1, affine=True, track_running_stats=True)\n        (1): PReLU(num_parameters=64)\n      )\n    )\n  )\n  (eff_pool_32x32): EfficientPyrPool(\n    (stages): ModuleList(\n      (0): Conv2d(10, 10, kernel_size=(3, 3), stride=(1, 1), padding=(1, 1), groups=10, bias=False)\n      (1): Conv2d(10, 10, kernel_size=(3, 3), stride=(1, 1), padding=(1, 1), groups=10, bias=False)\n      (2): Conv2d(10, 10, kernel_size=(3, 3), stride=(1, 1), padding=(1, 1), groups=10, bias=False)\n      (3): Conv2d(10, 10, kernel_size=(3, 3), stride=(1, 1), padding=(1, 1), groups=10, bias=False)\n      (4): Conv2d(10, 10, kernel_size=(3, 3), stride=(1, 1), padding=(1, 1), groups=10, bias=False)\n    )\n    (projection_layer): CBR(\n      (cbr): Sequential(\n        (0): Conv2d(64, 10, kernel_size=(1, 1), stride=(1, 1), bias=False)\n        (1): BatchNorm2d(10, eps=1e-05, momentum=0.1, affine=True, track_running_stats=True)\n        (2): PReLU(num_parameters=10)\n      )\n    )\n    (merge_layer): Sequential(\n      (0): BR(\n        (br): Sequential(\n          (0): BatchNorm2d(50, eps=1e-05, momentum=0.1, affine=True, track_running_stats=True)\n          (1): PReLU(num_parameters=50)\n        )\n      )\n      (1): Shuffle()\n      (2): CBR(\n        (cbr): Sequential(\n          (0): Conv2d(50, 10, kernel_size=(3, 3), stride=(1, 1), padding=(1, 1), groups=10, bias=False)\n          (1): BatchNorm2d(10, eps=1e-05, momentum=0.1, affine=True, track_running_stats=True)\n          (2): PReLU(num_parameters=10)\n        )\n      )\n      (3): Conv2d(10, 48, kernel_size=(1, 1), stride=(1, 1), bias=False)\n    )\n    (br): BR(\n      (br): Sequential(\n        (0): BatchNorm2d(48, eps=1e-05, momentum=0.1, affine=True, track_running_stats=True)\n        (1): PReLU(num_parameters=48)\n      )\n    )\n  )\n  (eff_pool_64x64): EfficientPyrPool(\n    (stages): ModuleList(\n      (0): Conv2d(10, 10, kernel_size=(3, 3), stride=(1, 1), padding=(1, 1), groups=10, bias=False)\n      (1): Conv2d(10, 10, kernel_size=(3, 3), stride=(1, 1), padding=(1, 1), groups=10, bias=False)\n      (2): Conv2d(10, 10, kernel_size=(3, 3), stride=(1, 1), padding=(1, 1), groups=10, bias=False)\n      (3): Conv2d(10, 10, kernel_size=(3, 3), stride=(1, 1), padding=(1, 1), groups=10, bias=False)\n      (4): Conv2d(10, 10, kernel_size=(3, 3), stride=(1, 1), padding=(1, 1), groups=10, bias=False)\n    )\n    (projection_layer): CBR(\n      (cbr): Sequential(\n        (0): Conv2d(48, 10, kernel_size=(1, 1), stride=(1, 1), bias=False)\n        (1): BatchNorm2d(10, eps=1e-05, momentum=0.1, affine=True, track_running_stats=True)\n        (2): PReLU(num_parameters=10)\n      )\n    )\n    (merge_layer): Sequential(\n      (0): BR(\n        (br): Sequential(\n          (0): BatchNorm2d(50, eps=1e-05, momentum=0.1, affine=True, track_running_stats=True)\n          (1): PReLU(num_parameters=50)\n        )\n      )\n      (1): Shuffle()\n      (2): CBR(\n        (cbr): Sequential(\n          (0): Conv2d(50, 10, kernel_size=(3, 3), stride=(1, 1), padding=(1, 1), groups=10, bias=False)\n          (1): BatchNorm2d(10, eps=1e-05, momentum=0.1, affine=True, track_running_stats=True)\n          (2): PReLU(num_parameters=10)\n        )\n      )\n      (3): Conv2d(10, 32, kernel_size=(1, 1), stride=(1, 1), bias=False)\n    )\n    (br): BR(\n      (br): Sequential(\n        (0): BatchNorm2d(32, eps=1e-05, momentum=0.1, affine=True, track_running_stats=True)\n        (1): PReLU(num_parameters=32)\n      )\n    )\n  )\n  (eff_pool_128x128): EfficientPyrPool(\n    (stages): ModuleList(\n      (0): Conv2d(10, 10, kernel_size=(3, 3), stride=(1, 1), padding=(1, 1), groups=10, bias=False)\n      (1): Conv2d(10, 10, kernel_size=(3, 3), stride=(1, 1), padding=(1, 1), groups=10, bias=False)\n      (2): Conv2d(10, 10, kernel_size=(3, 3), stride=(1, 1), padding=(1, 1), groups=10, bias=False)\n      (3): Conv2d(10, 10, kernel_size=(3, 3), stride=(1, 1), padding=(1, 1), groups=10, bias=False)\n      (4): Conv2d(10, 10, kernel_size=(3, 3), stride=(1, 1), padding=(1, 1), groups=10, bias=False)\n    )\n    (projection_layer): CBR(\n      (cbr): Sequential(\n        (0): Conv2d(32, 10, kernel_size=(1, 1), stride=(1, 1), bias=False)\n        (1): BatchNorm2d(10, eps=1e-05, momentum=0.1, affine=True, track_running_stats=True)\n        (2): PReLU(num_parameters=10)\n      )\n    )\n    (merge_layer): Sequential(\n      (0): BR(\n        (br): Sequential(\n          (0): BatchNorm2d(50, eps=1e-05, momentum=0.1, affine=True, track_running_stats=True)\n          (1): PReLU(num_parameters=50)\n        )\n      )\n      (1): Shuffle()\n      (2): CBR(\n        (cbr): Sequential(\n          (0): Conv2d(50, 10, kernel_size=(3, 3), stride=(1, 1), padding=(1, 1), groups=10, bias=False)\n          (1): BatchNorm2d(10, eps=1e-05, momentum=0.1, affine=True, track_running_stats=True)\n          (2): PReLU(num_parameters=10)\n        )\n      )\n      (3): Conv2d(10, 20, kernel_size=(1, 1), stride=(1, 1))\n    )\n  )\n  (proj_enc_32x32): EfficientPWConv(in_channels=48, out_channels=64)\n  (proj_enc_64x64): EfficientPWConv(in_channels=24, out_channels=48)\n  (proj_enc_128x128): EfficientPWConv(in_channels=24, out_channels=32)\n  (bu_br_32x32): Sequential(\n    (0): BatchNorm2d(64, eps=1e-05, momentum=0.1, affine=True, track_running_stats=True)\n    (1): PReLU(num_parameters=64)\n  )\n  (bu_br_64x64): Sequential(\n    (0): BatchNorm2d(48, eps=1e-05, momentum=0.1, affine=True, track_running_stats=True)\n    (1): PReLU(num_parameters=48)\n  )\n  (bu_br_128x128): Sequential(\n    (0): BatchNorm2d(32, eps=1e-05, momentum=0.1, affine=True, track_running_stats=True)\n    (1): PReLU(num_parameters=32)\n  )\n  (upsample): Upsample(scale_factor=2.0, mode=bilinear)\n)"
     },
     "metadata": {},
     "output_type": "execute_result",
     "execution_count": 5
    }
   ],
   "source": [
    "#\n",
    "#\n",
    "# in_args = \"--model espnetv2 --s 2.0 \" \\\n",
    "in_args = \"--dataset city --data-path ./vision_datasets/cityscapes/ \" \\\n",
    "          \"--batch-size 5 --crop-size 512 256 \" \\\n",
    "          \"--model dicenet \" \\\n",
    "          \"--s 1.75 --lr 0.02 --scheduler hybrid \" \\\n",
    "          \"--clr-max 61 --epochs 1\"\n",
    "\n",
    "\n",
    "\n",
    "in_args = \" --model shufflenetv2 --s 0.5  \\\n",
    "            --data-path ./vision_datasets/cityscapes/  \\\n",
    "            --num-classes 3 \\\n",
    "         \"\n",
    "args = jn_train_segmentation.load_args(in_args)\n",
    "jn_train_segmentation.load_model(args)"
   ],
   "metadata": {
    "collapsed": false,
    "pycharm": {
     "name": "#%%\n",
     "is_executing": false
    }
   }
  },
  {
   "cell_type": "code",
   "execution_count": null,
   "outputs": [],
   "source": [
    "model, device = jn_train_segmentation.load_model(args)\n",
    "\n"
   ],
   "metadata": {
    "collapsed": false,
    "pycharm": {
     "name": "#%%\n"
    }
   }
  }
 ],
 "metadata": {
  "language_info": {
   "codemirror_mode": {
    "name": "ipython",
    "version": 2
   },
   "file_extension": ".py",
   "mimetype": "text/x-python",
   "name": "python",
   "nbconvert_exporter": "python",
   "pygments_lexer": "ipython2",
   "version": "2.7.6"
  },
  "kernelspec": {
   "name": "python3",
   "language": "python",
   "display_name": "Python 3"
  },
  "pycharm": {
   "stem_cell": {
    "cell_type": "raw",
    "source": [],
    "metadata": {
     "collapsed": false
    }
   }
  }
 },
 "nbformat": 4,
 "nbformat_minor": 0
}