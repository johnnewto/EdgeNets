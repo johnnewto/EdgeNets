{
 "cells": [
  {
   "cell_type": "code",
   "execution_count": 8,
   "metadata": {
    "collapsed": true,
    "pycharm": {
     "is_executing": false
    }
   },
   "outputs": [],
   "source": [
    "%reload_ext autoreload\n",
    "%autoreload 2\n",
    "%matplotlib inline\n",
    "\n",
    "# import torch\n",
    "# import glob\n",
    "# import os\n",
    "# from argparse import ArgumentParser\n",
    "# from PIL import Image\n",
    "# from torchvision.transforms import functional as F\n",
    "# from tqdm import tqdm\n",
    "# from utilities.print_utils import *\n",
    "# from transforms.classification.data_transforms import MEAN, STD\n",
    "# from utilities.utils import model_parameters, compute_flops\n",
    "# \n",
    "# from fastai import *\n",
    "# from fastai.vision import *\n",
    "# from fastai.torch_core import *\n",
    "# \n",
    "\n",
    "# import argparse\n",
    "# import os\n",
    "# import torch\n",
    "# import torch.nn as nn\n",
    "# import torch.optim as optim\n",
    "# from utilities.utils import save_checkpoint, model_parameters, compute_flops\n",
    "# from utilities.train_eval_seg import train_seg as train\n",
    "# from utilities.train_eval_seg import val_seg as val\n",
    "# from torch.utils.tensorboard import SummaryWriter\n",
    "# from loss_fns.segmentation_loss import SegmentationLoss\n",
    "# import random\n",
    "# import math\n",
    "# import time\n",
    "# import numpy as np\n",
    "# from utilities.print_utils import *"
   ]
  },
  {
   "cell_type": "code",
   "execution_count": 9,
   "outputs": [
    {
     "data": {
      "text/plain": "<module 'jn_train_segmentation' from '/home/john/github/EdgeNets/jn_train_segmentation.py'>"
     },
     "metadata": {},
     "output_type": "execute_result",
     "execution_count": 9
    }
   ],
   "source": [
    "import importlib\n",
    "import jn_train_segmentation \n",
    "importlib.reload(jn_train_segmentation)"
   ],
   "metadata": {
    "collapsed": false,
    "pycharm": {
     "name": "#%%\n",
     "is_executing": false
    }
   }
  },
  {
   "cell_type": "code",
   "execution_count": 1,
   "outputs": [
    {
     "name": "stderr",
     "text": [
      "warning: PYDEVD_USE_CYTHON environment variable is set to 'NO'. Frame evaluator will be also disabled because it requires Cython extensions to be enabled in order to operate correctly.\n"
     ],
     "output_type": "stream"
    },
    {
     "traceback": [
      "\u001b[0;31m---------------------------------------------------------------------------\u001b[0m",
      "\u001b[0;31mNameError\u001b[0m                                 Traceback (most recent call last)",
      "\u001b[0;32m<ipython-input-1-5e582852c7d4>\u001b[0m in \u001b[0;36m<module>\u001b[0;34m\u001b[0m\n\u001b[1;32m      8\u001b[0m           \u001b[0;34m\"--clr-max 61 --epochs 1\"\u001b[0m\u001b[0;34m\u001b[0m\u001b[0;34m\u001b[0m\u001b[0m\n\u001b[1;32m      9\u001b[0m \u001b[0;34m\u001b[0m\u001b[0m\n\u001b[0;32m---> 10\u001b[0;31m \u001b[0margs\u001b[0m \u001b[0;34m=\u001b[0m \u001b[0mjn_train_segmentation\u001b[0m\u001b[0;34m.\u001b[0m\u001b[0mload_args\u001b[0m\u001b[0;34m(\u001b[0m\u001b[0min_args\u001b[0m\u001b[0;34m)\u001b[0m\u001b[0;34m\u001b[0m\u001b[0;34m\u001b[0m\u001b[0m\n\u001b[0m\u001b[1;32m     11\u001b[0m \u001b[0mjn_train_segmentation\u001b[0m\u001b[0;34m.\u001b[0m\u001b[0mmain\u001b[0m\u001b[0;34m(\u001b[0m\u001b[0margs\u001b[0m\u001b[0;34m)\u001b[0m\u001b[0;34m\u001b[0m\u001b[0;34m\u001b[0m\u001b[0m\n\u001b[1;32m     12\u001b[0m \u001b[0;31m#\u001b[0m\u001b[0;34m\u001b[0m\u001b[0;34m\u001b[0m\u001b[0;34m\u001b[0m\u001b[0m\n",
      "\u001b[0;31mNameError\u001b[0m: name 'jn_train_segmentation' is not defined"
     ],
     "ename": "NameError",
     "evalue": "name 'jn_train_segmentation' is not defined",
     "output_type": "error"
    }
   ],
   "source": [
    "#\n",
    "#\n",
    "# in_args = \"--model espnetv2 --s 2.0 \" \\\n",
    "in_args = \"--dataset city --data-path ./vision_datasets/cityscapes/ \" \\\n",
    "          \"--batch-size 5 --crop-size 512 256 \" \\\n",
    "          \"--model dicenet \" \\\n",
    "          \"--s 1.75 --lr 0.02 --scheduler hybrid \" \\\n",
    "          \"--clr-max 61 --epochs 1\"\n",
    "\n",
    "args = jn_train_segmentation.load_args(in_args)\n",
    "jn_train_segmentation.main(args)\n",
    "#\n",
    "\n",
    "\n"
   ],
   "metadata": {
    "collapsed": false,
    "pycharm": {
     "name": "#%%\n",
     "is_executing": false
    }
   }
  },
  {
   "cell_type": "code",
   "execution_count": null,
   "outputs": [],
   "source": [
    "model, device = jn_train_segmentation.load_model(args)\n",
    "\n"
   ],
   "metadata": {
    "collapsed": false,
    "pycharm": {
     "name": "#%%\n"
    }
   }
  }
 ],
 "metadata": {
  "language_info": {
   "codemirror_mode": {
    "name": "ipython",
    "version": 2
   },
   "file_extension": ".py",
   "mimetype": "text/x-python",
   "name": "python",
   "nbconvert_exporter": "python",
   "pygments_lexer": "ipython2",
   "version": "2.7.6"
  },
  "kernelspec": {
   "name": "python3",
   "language": "python",
   "display_name": "Python 3"
  },
  "pycharm": {
   "stem_cell": {
    "cell_type": "raw",
    "source": [],
    "metadata": {
     "collapsed": false
    }
   }
  }
 },
 "nbformat": 4,
 "nbformat_minor": 0
}